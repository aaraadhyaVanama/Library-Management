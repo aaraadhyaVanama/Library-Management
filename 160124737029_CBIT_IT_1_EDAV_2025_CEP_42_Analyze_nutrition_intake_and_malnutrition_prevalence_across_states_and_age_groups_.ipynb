{
  "nbformat": 4,
  "nbformat_minor": 0,
  "metadata": {
    "colab": {
      "provenance": [],
      "authorship_tag": "ABX9TyMZyUohcHi9OZAkso1TSh3E",
      "include_colab_link": true
    },
    "kernelspec": {
      "name": "python3",
      "display_name": "Python 3"
    },
    "language_info": {
      "name": "python"
    }
  },
  "cells": [
    {
      "cell_type": "markdown",
      "metadata": {
        "id": "view-in-github",
        "colab_type": "text"
      },
      "source": [
        "<a href=\"https://colab.research.google.com/github/aaraadhyaVanama/Library-Management/blob/main/160124737029_CBIT_IT_1_EDAV_2025_CEP_42_Analyze_nutrition_intake_and_malnutrition_prevalence_across_states_and_age_groups_.ipynb\" target=\"_parent\"><img src=\"https://colab.research.google.com/assets/colab-badge.svg\" alt=\"Open In Colab\"/></a>"
      ]
    },
    {
      "cell_type": "markdown",
      "source": [
        "#**Analyze nutrition intake and malnutrition prevalence across states and age groups.**\n",
        "\n",
        "**Project ID : CBIT/IT-1/EDAV/2025/CEP-42**\n",
        "\n",
        "**Roll no : 160124737029**\n",
        "\n",
        "**Student Name : AARAADHYAA VANAMA**\n",
        "\n",
        "**Dept of IT , Chaitanya Bharathi Institute of Technology , Hyderabad**"
      ],
      "metadata": {
        "id": "pTOnQ3PEwKkq"
      }
    },
    {
      "cell_type": "markdown",
      "source": [
        "**The goal of this project is to analyze and visualize nutrition intake and malnutrition prevalence across states and age groups across various states and school types using Python (NumPy, Pandas, Matplotlib).**"
      ],
      "metadata": {
        "id": "0w1JChNk1Nmq"
      }
    },
    {
      "cell_type": "markdown",
      "source": [
        "#**Python Version: 3.10+**\n",
        "\n",
        "#**Libraries used :**\n",
        "\n",
        "\n",
        "| Library          | Purpose                                                                |\n",
        "| ---------------- | ---------------------------------------------------------------------- |\n",
        "| **pandas**       | For data loading, cleaning, and analysis (DataFrame operations)        |\n",
        "| **numpy**        | For numerical computations and handling missing values                 |\n",
        "| **matplotlib**   | For data visualization (bar charts and plots)                          |\n",
        "| **google.colab** | For file upload and download functionality in Google Colab environment |"
      ],
      "metadata": {
        "id": "zwznnNTc2ze_"
      }
    },
    {
      "cell_type": "markdown",
      "source": [
        "**Setup :**"
      ],
      "metadata": {
        "id": "1SGBE-Vy3ba0"
      }
    },
    {
      "cell_type": "code",
      "source": [
        "# ===============================================================\n",
        "# STEP 1: Read the File (CEP.csv)\n",
        "# ===============================================================\n",
        "\n",
        "import pandas as pd\n",
        "import numpy as np\n",
        "from google.colab import files\n",
        "\n",
        "# Upload the file\n",
        "uploaded = files.upload()\n",
        "\n",
        "# Load CSV file\n",
        "df = pd.read_csv(\"CEP.csv\")\n",
        "\n",
        "# Display first few rows\n",
        "print(\"✅ Data Loaded Successfully!\")\n",
        "print(df.head())\n",
        "\n",
        "# Check basic info\n",
        "print(\"\\n📊 Dataset Info:\")\n",
        "print(df.info())\n"
      ],
      "metadata": {
        "colab": {
          "base_uri": "https://localhost:8080/",
          "height": 836
        },
        "id": "DJuNwzFP22MJ",
        "outputId": "3f8414b9-8d5e-44ff-83b4-53a98c99bffa"
      },
      "execution_count": 15,
      "outputs": [
        {
          "output_type": "display_data",
          "data": {
            "text/plain": [
              "<IPython.core.display.HTML object>"
            ],
            "text/html": [
              "\n",
              "     <input type=\"file\" id=\"files-b53f49c9-b56c-4e0a-80f2-52c8d04c9aa6\" name=\"files[]\" multiple disabled\n",
              "        style=\"border:none\" />\n",
              "     <output id=\"result-b53f49c9-b56c-4e0a-80f2-52c8d04c9aa6\">\n",
              "      Upload widget is only available when the cell has been executed in the\n",
              "      current browser session. Please rerun this cell to enable.\n",
              "      </output>\n",
              "      <script>// Copyright 2017 Google LLC\n",
              "//\n",
              "// Licensed under the Apache License, Version 2.0 (the \"License\");\n",
              "// you may not use this file except in compliance with the License.\n",
              "// You may obtain a copy of the License at\n",
              "//\n",
              "//      http://www.apache.org/licenses/LICENSE-2.0\n",
              "//\n",
              "// Unless required by applicable law or agreed to in writing, software\n",
              "// distributed under the License is distributed on an \"AS IS\" BASIS,\n",
              "// WITHOUT WARRANTIES OR CONDITIONS OF ANY KIND, either express or implied.\n",
              "// See the License for the specific language governing permissions and\n",
              "// limitations under the License.\n",
              "\n",
              "/**\n",
              " * @fileoverview Helpers for google.colab Python module.\n",
              " */\n",
              "(function(scope) {\n",
              "function span(text, styleAttributes = {}) {\n",
              "  const element = document.createElement('span');\n",
              "  element.textContent = text;\n",
              "  for (const key of Object.keys(styleAttributes)) {\n",
              "    element.style[key] = styleAttributes[key];\n",
              "  }\n",
              "  return element;\n",
              "}\n",
              "\n",
              "// Max number of bytes which will be uploaded at a time.\n",
              "const MAX_PAYLOAD_SIZE = 100 * 1024;\n",
              "\n",
              "function _uploadFiles(inputId, outputId) {\n",
              "  const steps = uploadFilesStep(inputId, outputId);\n",
              "  const outputElement = document.getElementById(outputId);\n",
              "  // Cache steps on the outputElement to make it available for the next call\n",
              "  // to uploadFilesContinue from Python.\n",
              "  outputElement.steps = steps;\n",
              "\n",
              "  return _uploadFilesContinue(outputId);\n",
              "}\n",
              "\n",
              "// This is roughly an async generator (not supported in the browser yet),\n",
              "// where there are multiple asynchronous steps and the Python side is going\n",
              "// to poll for completion of each step.\n",
              "// This uses a Promise to block the python side on completion of each step,\n",
              "// then passes the result of the previous step as the input to the next step.\n",
              "function _uploadFilesContinue(outputId) {\n",
              "  const outputElement = document.getElementById(outputId);\n",
              "  const steps = outputElement.steps;\n",
              "\n",
              "  const next = steps.next(outputElement.lastPromiseValue);\n",
              "  return Promise.resolve(next.value.promise).then((value) => {\n",
              "    // Cache the last promise value to make it available to the next\n",
              "    // step of the generator.\n",
              "    outputElement.lastPromiseValue = value;\n",
              "    return next.value.response;\n",
              "  });\n",
              "}\n",
              "\n",
              "/**\n",
              " * Generator function which is called between each async step of the upload\n",
              " * process.\n",
              " * @param {string} inputId Element ID of the input file picker element.\n",
              " * @param {string} outputId Element ID of the output display.\n",
              " * @return {!Iterable<!Object>} Iterable of next steps.\n",
              " */\n",
              "function* uploadFilesStep(inputId, outputId) {\n",
              "  const inputElement = document.getElementById(inputId);\n",
              "  inputElement.disabled = false;\n",
              "\n",
              "  const outputElement = document.getElementById(outputId);\n",
              "  outputElement.innerHTML = '';\n",
              "\n",
              "  const pickedPromise = new Promise((resolve) => {\n",
              "    inputElement.addEventListener('change', (e) => {\n",
              "      resolve(e.target.files);\n",
              "    });\n",
              "  });\n",
              "\n",
              "  const cancel = document.createElement('button');\n",
              "  inputElement.parentElement.appendChild(cancel);\n",
              "  cancel.textContent = 'Cancel upload';\n",
              "  const cancelPromise = new Promise((resolve) => {\n",
              "    cancel.onclick = () => {\n",
              "      resolve(null);\n",
              "    };\n",
              "  });\n",
              "\n",
              "  // Wait for the user to pick the files.\n",
              "  const files = yield {\n",
              "    promise: Promise.race([pickedPromise, cancelPromise]),\n",
              "    response: {\n",
              "      action: 'starting',\n",
              "    }\n",
              "  };\n",
              "\n",
              "  cancel.remove();\n",
              "\n",
              "  // Disable the input element since further picks are not allowed.\n",
              "  inputElement.disabled = true;\n",
              "\n",
              "  if (!files) {\n",
              "    return {\n",
              "      response: {\n",
              "        action: 'complete',\n",
              "      }\n",
              "    };\n",
              "  }\n",
              "\n",
              "  for (const file of files) {\n",
              "    const li = document.createElement('li');\n",
              "    li.append(span(file.name, {fontWeight: 'bold'}));\n",
              "    li.append(span(\n",
              "        `(${file.type || 'n/a'}) - ${file.size} bytes, ` +\n",
              "        `last modified: ${\n",
              "            file.lastModifiedDate ? file.lastModifiedDate.toLocaleDateString() :\n",
              "                                    'n/a'} - `));\n",
              "    const percent = span('0% done');\n",
              "    li.appendChild(percent);\n",
              "\n",
              "    outputElement.appendChild(li);\n",
              "\n",
              "    const fileDataPromise = new Promise((resolve) => {\n",
              "      const reader = new FileReader();\n",
              "      reader.onload = (e) => {\n",
              "        resolve(e.target.result);\n",
              "      };\n",
              "      reader.readAsArrayBuffer(file);\n",
              "    });\n",
              "    // Wait for the data to be ready.\n",
              "    let fileData = yield {\n",
              "      promise: fileDataPromise,\n",
              "      response: {\n",
              "        action: 'continue',\n",
              "      }\n",
              "    };\n",
              "\n",
              "    // Use a chunked sending to avoid message size limits. See b/62115660.\n",
              "    let position = 0;\n",
              "    do {\n",
              "      const length = Math.min(fileData.byteLength - position, MAX_PAYLOAD_SIZE);\n",
              "      const chunk = new Uint8Array(fileData, position, length);\n",
              "      position += length;\n",
              "\n",
              "      const base64 = btoa(String.fromCharCode.apply(null, chunk));\n",
              "      yield {\n",
              "        response: {\n",
              "          action: 'append',\n",
              "          file: file.name,\n",
              "          data: base64,\n",
              "        },\n",
              "      };\n",
              "\n",
              "      let percentDone = fileData.byteLength === 0 ?\n",
              "          100 :\n",
              "          Math.round((position / fileData.byteLength) * 100);\n",
              "      percent.textContent = `${percentDone}% done`;\n",
              "\n",
              "    } while (position < fileData.byteLength);\n",
              "  }\n",
              "\n",
              "  // All done.\n",
              "  yield {\n",
              "    response: {\n",
              "      action: 'complete',\n",
              "    }\n",
              "  };\n",
              "}\n",
              "\n",
              "scope.google = scope.google || {};\n",
              "scope.google.colab = scope.google.colab || {};\n",
              "scope.google.colab._files = {\n",
              "  _uploadFiles,\n",
              "  _uploadFilesContinue,\n",
              "};\n",
              "})(self);\n",
              "</script> "
            ]
          },
          "metadata": {}
        },
        {
          "output_type": "stream",
          "name": "stdout",
          "text": [
            "Saving CEP.csv to CEP (1).csv\n",
            "✅ Data Loaded Successfully!\n",
            "            State AgeGroup  Population_thousands  AvgCalories_kcal  \\\n",
            "0  Andhra Pradesh      0-5                   478             931.7   \n",
            "1  Andhra Pradesh     6-14                   187            1188.0   \n",
            "2  Andhra Pradesh    15-49                   281            2081.9   \n",
            "3  Andhra Pradesh    50-64                    65            1943.2   \n",
            "4  Andhra Pradesh      65+                   172            1715.4   \n",
            "\n",
            "   AvgProtein_g  AvgIron_mg  AvgVitaminA_ug  UrbanPct  PovertyPct  \\\n",
            "0          37.9        11.3           488.8      40.1        31.6   \n",
            "1          43.6        11.4           285.6      24.1        22.6   \n",
            "2          69.2         7.4           437.6      22.7        25.3   \n",
            "3          66.0         7.2           494.9      49.7        34.2   \n",
            "4          61.7        10.4           266.5      30.1        24.7   \n",
            "\n",
            "   UnderweightPct  StuntingPct  WastingPct  AnemiaPct  \n",
            "0            44.9         51.5        33.3       20.1  \n",
            "1            31.8         23.9        16.6       24.3  \n",
            "2            16.8         28.5         0.5       15.9  \n",
            "3            22.3         25.9         0.5       13.9  \n",
            "4            22.3         28.1         0.5       22.3  \n",
            "\n",
            "📊 Dataset Info:\n",
            "<class 'pandas.core.frame.DataFrame'>\n",
            "RangeIndex: 50 entries, 0 to 49\n",
            "Data columns (total 13 columns):\n",
            " #   Column                Non-Null Count  Dtype  \n",
            "---  ------                --------------  -----  \n",
            " 0   State                 50 non-null     object \n",
            " 1   AgeGroup              50 non-null     object \n",
            " 2   Population_thousands  50 non-null     int64  \n",
            " 3   AvgCalories_kcal      50 non-null     float64\n",
            " 4   AvgProtein_g          50 non-null     float64\n",
            " 5   AvgIron_mg            50 non-null     float64\n",
            " 6   AvgVitaminA_ug        50 non-null     float64\n",
            " 7   UrbanPct              50 non-null     float64\n",
            " 8   PovertyPct            50 non-null     float64\n",
            " 9   UnderweightPct        50 non-null     float64\n",
            " 10  StuntingPct           50 non-null     float64\n",
            " 11  WastingPct            50 non-null     float64\n",
            " 12  AnemiaPct             50 non-null     float64\n",
            "dtypes: float64(10), int64(1), object(2)\n",
            "memory usage: 5.2+ KB\n",
            "None\n"
          ]
        }
      ]
    },
    {
      "cell_type": "markdown",
      "source": [
        "#**Q1) Calculate average nutrition intake (BL-3)**"
      ],
      "metadata": {
        "id": "bveDzb1R4qVm"
      }
    },
    {
      "cell_type": "markdown",
      "source": [
        "**We use NumPy or Pandas to compute the mean of nutrition values like calories, protein, or vitamins.**\n",
        "\n",
        "**It helps identify the general dietary level of a population.**\n",
        "\n",
        "**This step gives a baseline for comparing nutrition across groups.**"
      ],
      "metadata": {
        "id": "Ao7ncSso5S-9"
      }
    },
    {
      "cell_type": "code",
      "source": [
        "# ===============================================================\n",
        "# Q1: Calculate Average Nutrition Intake (BL-3)\n",
        "# ===============================================================\n",
        "\n",
        "# Select numeric columns only\n",
        "numeric_cols = df.select_dtypes(include=[np.number]).columns\n",
        "\n",
        "# Calculate average (mean) for all numeric nutrition values\n",
        "average_nutrition = df[numeric_cols].mean()\n",
        "\n",
        "print(\"🔹 Average Nutrition Intake:\")\n",
        "print(average_nutrition)\n"
      ],
      "metadata": {
        "colab": {
          "base_uri": "https://localhost:8080/"
        },
        "id": "t8iSZiFa5m9B",
        "outputId": "0a05ae60-47f2-4ec4-e013-2f90e894be04"
      },
      "execution_count": 16,
      "outputs": [
        {
          "output_type": "stream",
          "name": "stdout",
          "text": [
            "🔹 Average Nutrition Intake:\n",
            "Population_thousands     285.120\n",
            "AvgCalories_kcal        1690.310\n",
            "AvgProtein_g              57.140\n",
            "AvgIron_mg                10.240\n",
            "AvgVitaminA_ug           419.414\n",
            "UrbanPct                  30.122\n",
            "PovertyPct                26.396\n",
            "UnderweightPct            27.666\n",
            "StuntingPct               28.712\n",
            "WastingPct                 7.948\n",
            "AnemiaPct                 20.642\n",
            "dtype: float64\n"
          ]
        }
      ]
    },
    {
      "cell_type": "markdown",
      "source": [
        "#**Q2) Filter data by age and region (BL-3)**\n",
        "\n",
        "**Filtering selects specific subsets of data (e.g., people aged 10–18 in rural areas).**\n",
        "\n",
        "**It helps in analyzing nutrition trends among targeted demographics.**\n",
        "\n",
        "**This makes comparisons between different regions or age groups easier.**\n"
      ],
      "metadata": {
        "id": "KvCp72y9577q"
      }
    },
    {
      "cell_type": "code",
      "source": [
        "# ===============================================================\n",
        "# Q2: Filter Data by Age and Region (BL-3)\n",
        "# ===============================================================\n",
        "\n",
        "# Example: Filter for '15-49' age group and 'Telangana' state\n",
        "filtered_data = df[(df['AgeGroup'] == '15-49') & (df['State'] == 'Telangana')]\n",
        "\n",
        "print(\"🔹 Filtered Data (Age Group '15-49', State = 'Telangana'):\")\n",
        "print(filtered_data.head())"
      ],
      "metadata": {
        "colab": {
          "base_uri": "https://localhost:8080/"
        },
        "id": "-GW2PVNl6ogm",
        "outputId": "04c0b7d4-2b22-4624-ebfa-eff473b53520"
      },
      "execution_count": 19,
      "outputs": [
        {
          "output_type": "stream",
          "name": "stdout",
          "text": [
            "🔹 Filtered Data (Age Group '15-49', State = 'Telangana'):\n",
            "       State AgeGroup  Population_thousands  AvgCalories_kcal  AvgProtein_g  \\\n",
            "7  Telangana    15-49                    99            2259.1          75.4   \n",
            "\n",
            "   AvgIron_mg  AvgVitaminA_ug  UrbanPct  PovertyPct  UnderweightPct  \\\n",
            "7        10.7           224.7      33.7        22.8            24.2   \n",
            "\n",
            "   StuntingPct  WastingPct  AnemiaPct  \n",
            "7         15.7         0.5       17.4  \n"
          ]
        }
      ]
    },
    {
      "cell_type": "markdown",
      "source": [
        "#**Q3: Handle missing nutrition records (BL-4)**\n",
        "\n",
        "**Missing values are filled (imputed) or removed to ensure data accuracy.**\n",
        "\n",
        "**Techniques like mean imputation or dropna() in Pandas are applied.**\n",
        "\n",
        "**Clean data prevents bias and improves the reliability of analysis.**"
      ],
      "metadata": {
        "id": "W0jHyP1B7IjM"
      }
    },
    {
      "cell_type": "code",
      "source": [
        "# ===============================================================\n",
        "# Q3: Handle Missing Nutrition Records (BL-4)\n",
        "# ===============================================================\n",
        "\n",
        "# Check missing values before cleaning\n",
        "print(\"🔹 Missing Values Before Cleaning:\")\n",
        "print(df.isnull().sum())\n",
        "\n",
        "# Fill numeric missing values with mean and categorical with mode\n",
        "for col in df.columns:\n",
        "    if df[col].dtype == 'object':\n",
        "        df[col].fillna(df[col].mode()[0], inplace=True)\n",
        "    else:\n",
        "        df[col].fillna(df[col].mean(), inplace=True)\n",
        "\n",
        "# Check missing values after cleaning\n",
        "print(\"\\n🔹 Missing Values After Cleaning:\")\n",
        "print(df.isnull().sum())\n"
      ],
      "metadata": {
        "colab": {
          "base_uri": "https://localhost:8080/"
        },
        "id": "A83KwDuL7Uoh",
        "outputId": "50abef6d-edc8-4150-b9d3-62c863fb094f"
      },
      "execution_count": 20,
      "outputs": [
        {
          "output_type": "stream",
          "name": "stdout",
          "text": [
            "🔹 Missing Values Before Cleaning:\n",
            "State                   0\n",
            "AgeGroup                0\n",
            "Population_thousands    0\n",
            "AvgCalories_kcal        0\n",
            "AvgProtein_g            0\n",
            "AvgIron_mg              0\n",
            "AvgVitaminA_ug          0\n",
            "UrbanPct                0\n",
            "PovertyPct              0\n",
            "UnderweightPct          0\n",
            "StuntingPct             0\n",
            "WastingPct              0\n",
            "AnemiaPct               0\n",
            "dtype: int64\n",
            "\n",
            "🔹 Missing Values After Cleaning:\n",
            "State                   0\n",
            "AgeGroup                0\n",
            "Population_thousands    0\n",
            "AvgCalories_kcal        0\n",
            "AvgProtein_g            0\n",
            "AvgIron_mg              0\n",
            "AvgVitaminA_ug          0\n",
            "UrbanPct                0\n",
            "PovertyPct              0\n",
            "UnderweightPct          0\n",
            "StuntingPct             0\n",
            "WastingPct              0\n",
            "AnemiaPct               0\n",
            "dtype: int64\n"
          ]
        },
        {
          "output_type": "stream",
          "name": "stderr",
          "text": [
            "/tmp/ipython-input-1232844207.py:12: FutureWarning: A value is trying to be set on a copy of a DataFrame or Series through chained assignment using an inplace method.\n",
            "The behavior will change in pandas 3.0. This inplace method will never work because the intermediate object on which we are setting values always behaves as a copy.\n",
            "\n",
            "For example, when doing 'df[col].method(value, inplace=True)', try using 'df.method({col: value}, inplace=True)' or df[col] = df[col].method(value) instead, to perform the operation inplace on the original object.\n",
            "\n",
            "\n",
            "  df[col].fillna(df[col].mode()[0], inplace=True)\n",
            "/tmp/ipython-input-1232844207.py:14: FutureWarning: A value is trying to be set on a copy of a DataFrame or Series through chained assignment using an inplace method.\n",
            "The behavior will change in pandas 3.0. This inplace method will never work because the intermediate object on which we are setting values always behaves as a copy.\n",
            "\n",
            "For example, when doing 'df[col].method(value, inplace=True)', try using 'df.method({col: value}, inplace=True)' or df[col] = df[col].method(value) instead, to perform the operation inplace on the original object.\n",
            "\n",
            "\n",
            "  df[col].fillna(df[col].mean(), inplace=True)\n"
          ]
        }
      ]
    },
    {
      "cell_type": "markdown",
      "source": [
        "#**Q4: Group nutrition data by demographic segments (BL-4)**\n",
        "\n",
        "**Grouping organizes data by factors like gender, region, or income.**\n",
        "\n",
        "**We use groupby() in Pandas to compute averages or totals per segment.**\n",
        "\n",
        "**It reveals how nutrition varies across population categories.**"
      ],
      "metadata": {
        "id": "98YhiUBI7njE"
      }
    },
    {
      "cell_type": "code",
      "source": [
        "# ===============================================================\n",
        "# Q4: Group Nutrition Data by Demographic Segments (BL-4)\n",
        "# ===============================================================\n",
        "\n",
        "# Example grouping by State and AgeGroup\n",
        "grouped_data = df.groupby(['State', 'AgeGroup'])[['AvgCalories_kcal', 'AvgProtein_g', 'AvgIron_mg', 'AvgVitaminA_ug']].mean()\n",
        "\n",
        "print(\"🔹 Average Nutrition Intake by State and AgeGroup:\")\n",
        "print(grouped_data)"
      ],
      "metadata": {
        "colab": {
          "base_uri": "https://localhost:8080/"
        },
        "id": "cDQul0ZC7ymj",
        "outputId": "a37171cb-5385-4287-d244-c6a1f7886faf"
      },
      "execution_count": 23,
      "outputs": [
        {
          "output_type": "stream",
          "name": "stdout",
          "text": [
            "🔹 Average Nutrition Intake by State and AgeGroup:\n",
            "                         AvgCalories_kcal  AvgProtein_g  AvgIron_mg  \\\n",
            "State          AgeGroup                                               \n",
            "Andhra Pradesh 0-5                  931.7          37.9        11.3   \n",
            "               15-49               2081.9          69.2         7.4   \n",
            "               50-64               1943.2          66.0         7.2   \n",
            "               6-14                1188.0          43.6        11.4   \n",
            "               65+                 1715.4          61.7        10.4   \n",
            "Bihar          0-5                  833.5          28.3        12.6   \n",
            "               15-49               2195.1          73.2         9.0   \n",
            "               50-64               1861.7          60.3        10.4   \n",
            "               6-14                1583.2          51.1        10.5   \n",
            "               65+                 1884.5          69.4         8.0   \n",
            "Karnataka      0-5                  999.9          54.8        13.9   \n",
            "               15-49               2127.3          74.2        10.8   \n",
            "               50-64               1935.2          75.0        10.1   \n",
            "               6-14                1652.8          54.6         7.2   \n",
            "               65+                 1646.0          54.6        13.3   \n",
            "Kerala         0-5                  869.3          23.4        15.1   \n",
            "               15-49               2098.2          81.5        10.6   \n",
            "               50-64               1873.5          64.3        11.4   \n",
            "               6-14                1609.5          56.3         7.6   \n",
            "               65+                 1754.0          50.7        10.0   \n",
            "Maharashtra    0-5                  978.3          23.5        10.5   \n",
            "               15-49               2198.3          68.2         8.9   \n",
            "               50-64               1847.0          64.0        10.4   \n",
            "               6-14                1517.3          48.9        10.6   \n",
            "               65+                 1930.5          62.5        10.7   \n",
            "Odisha         0-5                  974.1          34.6        11.2   \n",
            "               15-49               2032.5          61.1         9.3   \n",
            "               50-64               2023.7          66.2        13.3   \n",
            "               6-14                1748.5          49.5         5.4   \n",
            "               65+                 1775.5          52.4        10.5   \n",
            "Tamil Nadu     0-5                  923.6          30.5         8.2   \n",
            "               15-49               2024.7          64.8        10.2   \n",
            "               50-64               1940.9          60.4         9.3   \n",
            "               6-14                1718.1          51.6         8.5   \n",
            "               65+                 1839.4          65.3         7.6   \n",
            "Telangana      0-5                  876.3          29.3        13.2   \n",
            "               15-49               2259.1          75.4        10.7   \n",
            "               50-64               2123.6          78.2        11.1   \n",
            "               6-14                1487.7          50.8        12.5   \n",
            "               65+                 1884.9          65.8        10.6   \n",
            "Uttar Pradesh  0-5                  959.6          34.7        12.8   \n",
            "               15-49               2222.9          80.2        11.3   \n",
            "               50-64               2045.7          67.4         6.7   \n",
            "               6-14                1659.0          60.8         8.7   \n",
            "               65+                 1970.1          69.2        13.9   \n",
            "West Bengal    0-5                 1032.5          27.6         8.6   \n",
            "               15-49               2183.0          67.7         8.9   \n",
            "               50-64               1884.4          65.8         8.9   \n",
            "               6-14                1437.1          50.4        11.5   \n",
            "               65+                 2233.3          80.1         9.8   \n",
            "\n",
            "                         AvgVitaminA_ug  \n",
            "State          AgeGroup                  \n",
            "Andhra Pradesh 0-5                488.8  \n",
            "               15-49              437.6  \n",
            "               50-64              494.9  \n",
            "               6-14               285.6  \n",
            "               65+                266.5  \n",
            "Bihar          0-5                652.3  \n",
            "               15-49              452.0  \n",
            "               50-64              566.0  \n",
            "               6-14               314.4  \n",
            "               65+                457.1  \n",
            "Karnataka      0-5                568.8  \n",
            "               15-49              325.8  \n",
            "               50-64              352.5  \n",
            "               6-14               406.6  \n",
            "               65+                321.4  \n",
            "Kerala         0-5                558.2  \n",
            "               15-49              351.7  \n",
            "               50-64              392.9  \n",
            "               6-14               432.0  \n",
            "               65+                465.2  \n",
            "Maharashtra    0-5                530.1  \n",
            "               15-49              380.2  \n",
            "               50-64              362.8  \n",
            "               6-14               429.7  \n",
            "               65+                394.8  \n",
            "Odisha         0-5                641.2  \n",
            "               15-49              356.3  \n",
            "               50-64              552.4  \n",
            "               6-14               498.1  \n",
            "               65+                289.9  \n",
            "Tamil Nadu     0-5                496.8  \n",
            "               15-49              358.6  \n",
            "               50-64              443.4  \n",
            "               6-14               460.7  \n",
            "               65+                293.2  \n",
            "Telangana      0-5                561.8  \n",
            "               15-49              224.7  \n",
            "               50-64              408.9  \n",
            "               6-14               447.4  \n",
            "               65+                365.0  \n",
            "Uttar Pradesh  0-5                562.7  \n",
            "               15-49              399.6  \n",
            "               50-64              344.9  \n",
            "               6-14               428.7  \n",
            "               65+                351.0  \n",
            "West Bengal    0-5                494.7  \n",
            "               15-49              303.3  \n",
            "               50-64              300.9  \n",
            "               6-14               375.9  \n",
            "               65+                322.7  \n"
          ]
        }
      ]
    },
    {
      "cell_type": "markdown",
      "source": [
        "#**Summary of Findings**\n",
        "\n",
        "**Missing data were successfully handled through mean imputation.**\n",
        "\n",
        "**Mean infrastructure scores provided a single performance indicator per state.**\n",
        "\n",
        "**Clear differences were observed among states in overall infrastructure quality.**\n",
        "\n",
        "#**Challenges Encountered**\n",
        "\n",
        "**Some columns contained inconsistent values (zeros vs missing).**\n",
        "\n",
        "**Ensuring readability of long x-axis labels in visualizations.**\n",
        "\n",
        "#**Future Scope**\n",
        "\n",
        "**Add multiple years of data to study trends over time.**\n",
        "\n",
        "**Use interactive dashboards (e.g., Plotly) for deeper exploration.**\n",
        "\n",
        "\n",
        "#data set link : https://drive.google.com/file/d/1pRLbfu1Nqz3Fsia2TXBKUsoyy1ZNA3G3/view?usp=drive_link"
      ],
      "metadata": {
        "id": "dw1LNTzk8Nrg"
      }
    }
  ]
}